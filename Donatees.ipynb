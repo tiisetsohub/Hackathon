{
 "cells": [
  {
   "cell_type": "code",
   "execution_count": 40,
   "id": "2c8f2759",
   "metadata": {},
   "outputs": [],
   "source": [
    "import numpy as np\n",
    "placesbarray=[]\n",
    "\n",
    "with open('untitled3.txt') as f:\n",
    "    items = f.readlines()\n",
    "    \n",
    "\n",
    "with open('untitled2.txt') as f:\n",
    "    placesb = f.readlines()\n",
    "    "
   ]
  },
  {
   "cell_type": "code",
   "execution_count": 41,
   "id": "7ba2c754",
   "metadata": {},
   "outputs": [],
   "source": [
    "class place:\n",
    "    def __init__(self,name,capacity,x,y):\n",
    "        self.name=name\n",
    "        self.capacity = capacity\n",
    "        self.x = x\n",
    "        self.y = y\n",
    "        self.distance=0\n",
    "        self.items={}\n",
    "    \n",
    "class donateer:\n",
    "    def __init__(self,name,x,y):\n",
    "        self.name=name\n",
    "        self.x=x\n",
    "        self.y=y\n",
    "        self.items={}\n",
    "        self.delivered=False"
   ]
  },
  {
   "cell_type": "code",
   "execution_count": 42,
   "id": "8d5c5531",
   "metadata": {},
   "outputs": [],
   "source": [
    "for i in range(len(placesb)):\n",
    "    thing = (placesb[i].split(\" \",1)[1]).split()\n",
    "    test = (thing[4]).split(\",\")\n",
    "    p1=place(thing[0],int(thing[1]),int(thing[2]),int(thing[3]))\n",
    "    for j in range(len(test)):   \n",
    "        p1.items[(test[j]).split(\":\")[0]]=int((test[j]).split(\":\")[1])\n",
    "    placesbarray.append(p1)\n",
    "\n",
    "for i in range(len(items)):\n",
    "    thing = (items[i].split(\" \",1)[1]).split()\n",
    "    test = (thing[3]).split(\",\")\n",
    "    donatee=donateer(thing[0],int(thing[1]),int(thing[2]))\n",
    "    for j in range(len(test)):   \n",
    "        donatee.items[(test[j]).split(\":\")[0]]=int((test[j]).split(\":\")[1])\n",
    "        "
   ]
  },
  {
   "cell_type": "code",
   "execution_count": 43,
   "id": "814931ce",
   "metadata": {},
   "outputs": [],
   "source": [
    "for i in range(len(placesb)):\n",
    "    distance = np.sqrt(np.square(donatee.x-placesbarray[i].x)+np.square(donatee.y-placesbarray[i].y))\n",
    "    placesbarray[i].distance=distance\n",
    "    "
   ]
  },
  {
   "cell_type": "code",
   "execution_count": 44,
   "id": "1ed403a1",
   "metadata": {},
   "outputs": [],
   "source": [
    "for i in range(len(placesb)): \n",
    "    minidx=i \n",
    "    for j in range(i+1, len(placesb)): \n",
    "        if placesbarray[minidx].distance > placesbarray[j].distance: \n",
    "            minidx = j \n",
    "            \n",
    "    placesbarray[i], placesbarray[minidx] = placesbarray[minidx], placesbarray[i]\n",
    "    "
   ]
  },
  {
   "cell_type": "code",
   "execution_count": 45,
   "id": "5a4e7c3e",
   "metadata": {},
   "outputs": [],
   "source": [
    "def mapperb(key):\n",
    "    pos=[]\n",
    "    for i in range(len(placesb)):\n",
    "        if key in placesbarray[i].items:\n",
    "            pos.append(i)\n",
    "    \n",
    "    for curr in range(len(pos)-1):\n",
    "        nxt=curr+1\n",
    "        curr=pos[curr]\n",
    "        nxt=pos[nxt]\n",
    "        total=placesbarray[curr].items[key]+placesbarray[nxt].items[key]\n",
    "        if donatee.items[key] <= total:\n",
    "            donatee.items[key]-=placesbarray[curr].items[key]\n",
    "            placesbarray[curr].capacity+=placesbarray[curr].items[key]\n",
    "            placesbarray[curr].items[key]=0\n",
    "            \n",
    "            \n",
    "            placesbarray[nxt].capacity+=donatee.items[key]\n",
    "            placesbarray[nxt].items[key]-=donatee.items[key]\n",
    "            donatee.items[key]=0\n",
    "    \n",
    "    donatee.delivered=True   \n",
    "    for key in donatee.items: \n",
    "        val=donatee.items[key]\n",
    "        if val > 0:\n",
    "            donatee.delivered = False\n",
    "        \n",
    "    \n",
    "        if donatee.delivered==False:\n",
    "            print(\"We're currently out of \" + key)\n",
    "             \n",
    "        "
   ]
  },
  {
   "cell_type": "code",
   "execution_count": 46,
   "id": "1c22c33b",
   "metadata": {},
   "outputs": [
    {
     "name": "stdout",
     "output_type": "stream",
     "text": [
      "Place-A\n",
      "{'Beans': 0}\n",
      "300\n",
      " \n",
      "Place-C\n",
      "{'Maize': 100}\n",
      "100\n",
      " \n",
      "Place-D\n",
      "{'Beans': 0, 'Rice': 100, 'Maize': 0}\n",
      "250\n",
      " \n",
      "Place-B\n",
      "{'Maize': 0, 'Rice': 200}\n",
      "300\n",
      " \n"
     ]
    }
   ],
   "source": [
    "for key in donatee.items:\n",
    "    val=donatee.items[key]\n",
    "    for i in range(len(placesb)):\n",
    "        if key in placesbarray[i].items:\n",
    "            if val <= placesbarray[i].items[key]:\n",
    "                placesbarray[i].items[key]-=val\n",
    "                donatee.items[key]=0\n",
    "                placesbarray[i].capacity+=val\n",
    "                \n",
    "\n",
    "    \n",
    "donatee.delivered=True   \n",
    "for key in donatee.items: \n",
    "    val=donatee.items[key]\n",
    "    if val > 0:\n",
    "        donatee.delivered = False\n",
    "        \n",
    "    \n",
    "    if donatee.delivered==False:\n",
    "        mapperb(key)\n",
    "             \n",
    "            \n",
    "for i in range(len(placesb)):   \n",
    "    print(placesbarray[i].name)\n",
    "    print(placesbarray[i].items)\n",
    "    print(placesbarray[i].capacity)\n",
    "    print(\" \")\n",
    "\n",
    "             "
   ]
  },
  {
   "cell_type": "code",
   "execution_count": null,
   "id": "b6218b27",
   "metadata": {},
   "outputs": [],
   "source": []
  },
  {
   "cell_type": "code",
   "execution_count": null,
   "id": "997ac440",
   "metadata": {},
   "outputs": [],
   "source": []
  }
 ],
 "metadata": {
  "kernelspec": {
   "display_name": "Python 3 (ipykernel)",
   "language": "python",
   "name": "python3"
  },
  "language_info": {
   "codemirror_mode": {
    "name": "ipython",
    "version": 3
   },
   "file_extension": ".py",
   "mimetype": "text/x-python",
   "name": "python",
   "nbconvert_exporter": "python",
   "pygments_lexer": "ipython3",
   "version": "3.9.7"
  }
 },
 "nbformat": 4,
 "nbformat_minor": 5
}
