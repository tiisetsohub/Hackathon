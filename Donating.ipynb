{
 "cells": [
  {
   "cell_type": "code",
   "execution_count": 66,
   "id": "73850eb8",
   "metadata": {},
   "outputs": [],
   "source": [
    "import numpy as np\n",
    "placesarray=[]\n",
    "\n",
    "\n",
    "with open('untitled.txt') as f:\n",
    "    items = f.readlines()\n",
    "    \n",
    "\n",
    "with open('untitled1.txt') as f:\n",
    "    places = f.readlines()\n",
    "    "
   ]
  },
  {
   "cell_type": "code",
   "execution_count": 67,
   "id": "616bc1c0",
   "metadata": {},
   "outputs": [],
   "source": [
    "class place:\n",
    "    def __init__(self,name,capacity,x,y):\n",
    "        self.name=name\n",
    "        self.capacity = capacity\n",
    "        self.x = x\n",
    "        self.y = y\n",
    "        self.distance=0\n",
    "        self.items={}\n",
    "        self.max = capacity\n",
    "    \n",
    "class item:\n",
    "    def __init__(self,name,quantity,x,y):\n",
    "        self.name=name\n",
    "        self.quantity=quantity\n",
    "        self.x=x\n",
    "        self.y=y\n",
    "        self.placed=False"
   ]
  },
  {
   "cell_type": "code",
   "execution_count": 68,
   "id": "576d66ce",
   "metadata": {},
   "outputs": [],
   "source": [
    "for i in range(len(places)):\n",
    "    thing = (places[i].split(\" \",1)[1]).split()\n",
    "\n",
    "    p1=place(thing[0],int(thing[1]),int(thing[2]),int(thing[3]))\n",
    "    placesarray.append(p1)\n",
    "\n",
    "for i in range(len(items)):\n",
    "    thing = (items[i].split(\" \",1)[1]).split()\n",
    "item1=item(thing[0],int(thing[1]),int(thing[2]),int(thing[3]))\n"
   ]
  },
  {
   "cell_type": "code",
   "execution_count": 62,
   "id": "18372393",
   "metadata": {},
   "outputs": [],
   "source": [
    "for i in range(len(placesarray)):\n",
    "    distance = np.sqrt(np.square(item1.x-placesarray[i].x)+np.square(item1.y-placesarray[i].y))\n",
    "    placesarray[i].distance=distance"
   ]
  },
  {
   "cell_type": "code",
   "execution_count": 63,
   "id": "38f3c42b",
   "metadata": {},
   "outputs": [],
   "source": [
    "for i in range(len(placesarray)): \n",
    "    minidx=i \n",
    "    for j in range(i+1, len(placesarray)): \n",
    "        if placesarray[minidx].distance > placesarray[j].distance: \n",
    "            minidx = j \n",
    "            \n",
    "    placesarray[i], placesarray[minidx] = placesarray[minidx], placesarray[i]"
   ]
  },
  {
   "cell_type": "code",
   "execution_count": 64,
   "id": "847a257b",
   "metadata": {},
   "outputs": [],
   "source": [
    "def mapper():\n",
    "    for curr in range(len(placesarray)-1):\n",
    "        nxt=curr+1\n",
    "        currentcap=placesarray[curr].capacity\n",
    "        nextcap=placesarray[nxt].capacity\n",
    "        total = currentcap+nextcap\n",
    "        if item1.quantity <= total:\n",
    "            totb=total-currentcap\n",
    "            tota=total-totb\n",
    "            if item1.name in placesarray[curr].items:\n",
    "                placesarray[curr].items[item1.name]+=tota\n",
    "            else:\n",
    "                placesarray[curr].items[item1.name]=tota\n",
    "            placesarray[curr].capacity-=tota\n",
    "            \n",
    "            totc=item1.quantity-tota  \n",
    "            if item1.name in placesarray[nxt].items:\n",
    "                placesarray[nxt].items[item1.name]+=totc\n",
    "            else:\n",
    "                placesarray[nxt].items[item1.name]=totc\n",
    "            placesarray[nxt].capacity-=totc\n",
    "            item1.placed = True\n",
    "            \n",
    "            \n",
    "    if item1.placed == False:\n",
    "        print(\"No storage. Human interaction\")\n",
    "        "
   ]
  },
  {
   "cell_type": "code",
   "execution_count": 65,
   "id": "a8a52686",
   "metadata": {},
   "outputs": [
    {
     "name": "stdout",
     "output_type": "stream",
     "text": [
      "Place-A\n",
      "{}\n",
      "300\n",
      " \n",
      "Place-D\n",
      "{}\n",
      "40\n",
      " \n",
      "Place-B\n",
      "{'Beans': 500}\n",
      "0\n",
      " \n",
      "Place-C\n",
      "{'Beans': 200}\n",
      "0\n",
      " \n"
     ]
    }
   ],
   "source": [
    "for i in range(len(placesarray)):\n",
    "    if item1.quantity <= placesarray[i].capacity:\n",
    "        placesarray[i].items[item1.name] = item1.quantity\n",
    "        placesarray[i].capacity-=item1.quantity\n",
    "        item1.quantity-=item1.quantity\n",
    "        item1.placed=True\n",
    "        break\n",
    "\n",
    "if item1.placed == False:\n",
    "    mapper()\n",
    "    \n",
    "if item1.placed == True:\n",
    "    item1.quantity = 0\n",
    "        \n",
    "for i in range(len(placesarray)):   \n",
    "    print(placesarray[i].name)\n",
    "    print(placesarray[i].items)\n",
    "    print(placesarray[i].capacity)\n",
    "    print(\" \")\n",
    "\n"
   ]
  },
  {
   "cell_type": "code",
   "execution_count": null,
   "id": "3d0fc72a",
   "metadata": {},
   "outputs": [],
   "source": []
  },
  {
   "cell_type": "code",
   "execution_count": null,
   "id": "0370f7d4",
   "metadata": {},
   "outputs": [],
   "source": []
  }
 ],
 "metadata": {
  "kernelspec": {
   "display_name": "Python 3 (ipykernel)",
   "language": "python",
   "name": "python3"
  },
  "language_info": {
   "codemirror_mode": {
    "name": "ipython",
    "version": 3
   },
   "file_extension": ".py",
   "mimetype": "text/x-python",
   "name": "python",
   "nbconvert_exporter": "python",
   "pygments_lexer": "ipython3",
   "version": "3.9.7"
  }
 },
 "nbformat": 4,
 "nbformat_minor": 5
}
